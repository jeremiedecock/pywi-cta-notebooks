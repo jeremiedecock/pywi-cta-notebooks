{
 "cells": [
  {
   "cell_type": "markdown",
   "metadata": {},
   "source": [
    "# Optimize Starlet thresholds using Differential Evolution"
   ]
  },
  {
   "cell_type": "markdown",
   "metadata": {},
   "source": [
    "[![Binder](https://mybinder.org/badge_logo.svg)](https://mybinder.org/v2/gh/jeremiedecock/pywi-cta-notebooks/master?filepath=tuto_4d_optimize_starlet_thresholds_using_differential_evolution.ipynb)"
   ]
  },
  {
   "cell_type": "code",
   "execution_count": null,
   "metadata": {},
   "outputs": [],
   "source": [
    "import pywicta\n",
    "print(pywicta.get_version())"
   ]
  },
  {
   "cell_type": "code",
   "execution_count": null,
   "metadata": {},
   "outputs": [],
   "source": [
    "import json\n",
    "\n",
    "from pywicta.optimization.objectivefunc.starlet import ObjectiveFunction\n",
    "from pywicta.data.lst_gamma_prod3b_north_faint import data_dir\n",
    "\n",
    "from scipy import optimize\n",
    "\n",
    "import pywicta.denoising.cdf\n",
    "from pywicta.denoising.inverse_transform_sampling import EmpiricalDistribution"
   ]
  },
  {
   "cell_type": "code",
   "execution_count": null,
   "metadata": {},
   "outputs": [],
   "source": [
    "search_ranges = ((1., 5.),     # Scale 0 (smallest scale)\n",
    "                 (1., 5.))     # Scale 1 (largest scale)"
   ]
  },
  {
   "cell_type": "code",
   "execution_count": null,
   "metadata": {},
   "outputs": [],
   "source": [
    "#instrument = \"ASTRICam\"\n",
    "#instrument = \"CHEC\"\n",
    "#instrument = \"DigiCam\"\n",
    "#instrument = \"FlashCam\"\n",
    "#instrument = \"NectarCam\"\n",
    "instrument = \"LSTCam\"\n",
    "\n",
    "cleaning_failure_score = 90.\n",
    "#cleaning_failure_score = float('nan')\n",
    "\n",
    "input_files = [data_dir]    # Write here the path of the directory where images are stored\n",
    "\n",
    "#noise_distribution = EmpiricalDistribution(pywicta.denoising.cdf.ASTRI_CDF_FILE)\n",
    "#noise_distribution = EmpiricalDistribution(pywicta.denoising.cdf.GCT_CDF_FILE)\n",
    "#noise_distribution = EmpiricalDistribution(pywicta.denoising.cdf.DIGICAM_CDF_FILE)\n",
    "#noise_distribution = EmpiricalDistribution(pywicta.denoising.cdf.FLASHCAM_CDF_FILE)\n",
    "#noise_distribution = EmpiricalDistribution(pywicta.denoising.cdf.NECTARCAM_CDF_FILE)\n",
    "noise_distribution = EmpiricalDistribution(pywicta.denoising.cdf.LSTCAM_CDF_FILE)\n",
    "\n",
    "func = ObjectiveFunction(input_files=input_files,\n",
    "                         cam_id=instrument,\n",
    "                         max_num_img=10,                         # integer or None           should be at least 1000 in production\n",
    "                         noise_distribution=noise_distribution,\n",
    "                         aggregation_method=\"mean\",              # \"mean\" or \"median\"\n",
    "                         num_scales=len(search_ranges) + 1,      # TODO: useless now...\n",
    "                         type_of_filtering=\"cluster_filtering\",\n",
    "                         last_scale_treatment=\"mask\",\n",
    "                         detect_only_positive_structures=False,\n",
    "                         kill_isolated_pixels=False,\n",
    "                         #tmp_files_directory=\"/dev/shm/.jd/\",\n",
    "                         cleaning_failure_score=cleaning_failure_score)"
   ]
  },
  {
   "cell_type": "code",
   "execution_count": null,
   "metadata": {},
   "outputs": [],
   "source": [
    "x_list = []\n",
    "fx_list = []\n",
    "\n",
    "def callback(xk, convergence):\n",
    "    x_list.append(xk.tolist())\n",
    "    fx_list.append(float(func(xk)))\n",
    "\n",
    "    fx_best = min(fx_list)\n",
    "    fx_best_index = fx_list.index(fx_best)\n",
    "    x_best = x_list[fx_best_index]\n",
    "\n",
    "    print(\"{}: f({})={} ({}) ; best ({}): f({})={}\".format(len(x_list), x_list[-1], fx_list[-1], convergence, fx_best_index, x_best, fx_best))\n",
    "\n",
    "    res_dict = {\n",
    "                \"best_solution\": x_best,\n",
    "                \"best_score\": float(fx_best),\n",
    "                \"solutions\": x_list,\n",
    "                \"scores\": fx_list\n",
    "               }\n",
    "\n",
    "    with open(\"optimize_sigma_diff_evo.json\", \"w\") as fd:\n",
    "        json.dump(res_dict, fd, sort_keys=True, indent=4)  # pretty print format\n",
    "\n",
    "res = optimize.differential_evolution(func,\n",
    "                                      search_ranges,\n",
    "                                      maxiter=10,        # The number of iterations\n",
    "                                      popsize=5,\n",
    "                                      callback=callback,\n",
    "                                      #polish=False,\n",
    "                                      disp=False)          # Print status messages\n",
    "\n",
    "print()\n",
    "print(\"best solution:\", res.x)\n",
    "print(\"best score:\", res.fun)\n",
    "\n",
    "#print(\"Cause of the termination:\", res.message)\n",
    "#print(\"Number of evaluations of the objective functions:\", res.nfev)\n",
    "#print(\"Number of iterations performed by the optimizer:\", res.nit)"
   ]
  }
 ],
 "metadata": {
  "kernelspec": {
   "display_name": "Python 3",
   "language": "python",
   "name": "python3"
  },
  "language_info": {
   "codemirror_mode": {
    "name": "ipython",
    "version": 3
   },
   "file_extension": ".py",
   "mimetype": "text/x-python",
   "name": "python",
   "nbconvert_exporter": "python",
   "pygments_lexer": "ipython3",
   "version": "3.6.7"
  }
 },
 "nbformat": 4,
 "nbformat_minor": 2
}
