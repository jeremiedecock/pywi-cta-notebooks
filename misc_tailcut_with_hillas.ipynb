{
 "cells": [
  {
   "cell_type": "code",
   "execution_count": null,
   "metadata": {},
   "outputs": [],
   "source": [
    "%matplotlib inline\n",
    "\n",
    "import numpy as np\n",
    "\n",
    "import matplotlib\n",
    "import matplotlib.pyplot as plt\n",
    "\n",
    "import os\n",
    "\n",
    "import ipywidgets\n",
    "from ipywidgets import interact\n",
    "\n",
    "import pywicta\n",
    "from pywicta.io import geometry_converter\n",
    "from pywicta.io.images import image_generator\n",
    "from pywicta.io.images import plot_ctapipe_image\n",
    "from pywicta.io.images import plot_hillas_parameters_on_axes\n",
    "from pywicta.io.images import get_mars_like_default_integrator_config\n",
    "from pywicta.image.hillas_parameters import get_hillas_parameters\n",
    "from pywicta.denoising.tailcut import Tailcut\n",
    "from pywicta.denoising.rejection_criteria import CTAMarsCriteria"
   ]
  },
  {
   "cell_type": "code",
   "execution_count": null,
   "metadata": {},
   "outputs": [],
   "source": [
    "import warnings\n",
    "warnings.filterwarnings('ignore')"
   ]
  },
  {
   "cell_type": "code",
   "execution_count": null,
   "metadata": {},
   "outputs": [],
   "source": [
    "%%javascript\n",
    "IPython.OutputArea.auto_scroll_threshold = 9999;\n",
    "// see https://github.com/ipython/ipython/issues/2172"
   ]
  },
  {
   "cell_type": "markdown",
   "metadata": {},
   "source": [
    "## Make the dataset"
   ]
  },
  {
   "cell_type": "code",
   "execution_count": null,
   "metadata": {},
   "outputs": [],
   "source": [
    "#CAM_ID = \"ASTRICam\"\n",
    "#CAM_ID = \"CHEC\"\n",
    "#CAM_ID = \"DigiCam\"\n",
    "#CAM_ID = \"FlashCam\"\n",
    "#CAM_ID = \"NectarCam\"\n",
    "CAM_ID = \"LSTCam\"\n",
    "\n",
    "IMG_ID_LIST = [\n",
    "    \"run104_2081200_1\",\n",
    "    \"run105_1244901_4\",\n",
    "]\n",
    "#IMG_ID_LIST = []\n",
    "\n",
    "TEL_FILTER_LIST = []\n",
    "EVENT_FILTER_LIST = []"
   ]
  },
  {
   "cell_type": "code",
   "execution_count": null,
   "metadata": {},
   "outputs": [],
   "source": [
    "if len(IMG_ID_LIST) > 0:\n",
    "    \n",
    "    # Use only the images defined in IMG_ID_LIST\n",
    "    \n",
    "    USE_FITS = False\n",
    "    FITS_DIR = \"~/data/grid_prod3b_north/fits/lst/gamma\"\n",
    "    SIMTEL_DIR = \"~/data/grid_prod3b_north/simtel/gamma\"\n",
    "\n",
    "    PATHS = []\n",
    "    for img_id in IMG_ID_LIST:\n",
    "        run_id, event_id, tel_id = img_id.split(\"_\")\n",
    "        \n",
    "        run_id = int(run_id[3:])\n",
    "        event_id = int(event_id)\n",
    "        tel_id = int(tel_id)\n",
    "        \n",
    "        if USE_FITS:\n",
    "            PATHS.append(\"{}/gamma_20deg_0deg_run{}___cta-prod3-lapalma3-2147m-LaPalma.simtel.gz_TEL{:03d}_EV{}.fits\".format(FITS_DIR, run_id, tel_id, event_id))\n",
    "        else:\n",
    "            PATHS.append(\"{}/gamma_20deg_0deg_run{}___cta-prod3-lapalma3-2147m-LaPalma.simtel.gz\".format(SIMTEL_DIR, run_id))\n",
    "            TEL_FILTER_LIST.append(tel_id)\n",
    "            EVENT_FILTER_LIST.append(event_id)\n",
    "            \n",
    "    NUM_IMAGES = None\n",
    "                \n",
    "else:\n",
    "    \n",
    "    # Use the N first images in the following files\n",
    "    \n",
    "    #SIMTEL_FILE = \"~/data/astri_mini_array_konrad/simtel/astri_v2/gamma/gamma_20deg_180deg_run2203___cta-prod3-sst-astri_desert-2150m-Paranal-sst-astri2.simtel.gz\"\n",
    "    #SIMTEL_FILE = \"~/data/gct_mini_array_konrad/simtel/gct/gamma/gamma_20deg_180deg_run2203___cta-prod3-sst-gct_desert-2150m-Paranal-sst-gct.simtel.gz\"\n",
    "    #SIMTEL_FILE = \"~/data/sst1m_mini_array_konrad/simtel/sst1m/gamma/gamma_20deg_180deg_run2203___cta-prod3-sst-dc_desert-2150m-Paranal-sst-dc.simtel.gz\"\n",
    "    SIMTEL_FILE = \"~/data/grid_prod3b_north/simtel/gamma/gamma_20deg_0deg_run104___cta-prod3-lapalma3-2147m-LaPalma.simtel.gz\"\n",
    "    PATHS = [SIMTEL_FILE]\n",
    "    \n",
    "    NUM_IMAGES = 30\n",
    "    \n",
    "print(PATHS)"
   ]
  },
  {
   "cell_type": "markdown",
   "metadata": {},
   "source": [
    "## Define preselection cuts"
   ]
  },
  {
   "cell_type": "code",
   "execution_count": null,
   "metadata": {},
   "outputs": [],
   "source": [
    "#rejection_criteria = lambda ref_image: not 200 < np.nansum(ref_image) < 250\n",
    "#rejection_criteria = CTAMarsCriteria(cam_id=CAM_ID)\n",
    "rejection_criteria = None"
   ]
  },
  {
   "cell_type": "markdown",
   "metadata": {},
   "source": [
    "## Get images"
   ]
  },
  {
   "cell_type": "code",
   "execution_count": null,
   "metadata": {},
   "outputs": [],
   "source": [
    "integrator_config_dict = get_mars_like_default_integrator_config(CAM_ID)\n",
    "\n",
    "image_dict = {\"run{}_{}_{}\".format(int(image.meta['run_id']),\n",
    "                                   int(image.meta['event_id']),\n",
    "                                   int(image.meta['tel_id'])): image\n",
    "              for image\n",
    "              in image_generator(PATHS,\n",
    "                                 max_num_images=NUM_IMAGES,\n",
    "                                 cam_filter_list=[CAM_ID],\n",
    "                                 tel_filter_list=TEL_FILTER_LIST,\n",
    "                                 ev_filter_list=EVENT_FILTER_LIST,\n",
    "                                 ctapipe_format=False,\n",
    "                                 mc_rejection_criteria=rejection_criteria,\n",
    "                                 **integrator_config_dict)}"
   ]
  },
  {
   "cell_type": "code",
   "execution_count": null,
   "metadata": {},
   "outputs": [],
   "source": [
    "if len(IMG_ID_LIST) > 0:\n",
    "    image_dict = {k: v for k, v in image_dict.items() if k in IMG_ID_LIST}"
   ]
  },
  {
   "cell_type": "code",
   "execution_count": null,
   "metadata": {
    "scrolled": false
   },
   "outputs": [],
   "source": [
    "@interact(image_key=image_dict.keys(), picture_thresh=10, boundary_thresh=5, pixels_clusters=[\"off\", \"scipy\", \"mars\"])\n",
    "def compute_hillas_and_display(image_key, picture_thresh=10, boundary_thresh=5, pixels_clusters=\"off\"):\n",
    "    image = image_dict[image_key]\n",
    "    calibrated_image = image.input_image\n",
    "    cam_id = image.meta['cam_id']\n",
    "    \n",
    "    tailcut = Tailcut()\n",
    "    tailcut_cleaned_img = tailcut.clean_image(calibrated_image,\n",
    "                                              high_threshold=picture_thresh,\n",
    "                                              low_threshold=boundary_thresh,\n",
    "                                              pixels_clusters_filtering=pixels_clusters,\n",
    "                                              cam_id=cam_id)\n",
    "    \n",
    "    if np.nanmax(tailcut_cleaned_img) == 0:\n",
    "        print(\"Empty image\")\n",
    "    else:\n",
    "        calibrated_image_1d = geometry_converter.image_2d_to_1d(calibrated_image, cam_id)\n",
    "        tailcut_cleaned_img_1d = geometry_converter.image_2d_to_1d(tailcut_cleaned_img, cam_id)\n",
    "        geom1d = geometry_converter.get_geom1d(cam_id)\n",
    "        \n",
    "        tailcut_cleaned_img_mask = np.full(tailcut_cleaned_img_1d.shape, False)\n",
    "        tailcut_cleaned_img_mask[tailcut_cleaned_img_1d > 0] = True\n",
    "\n",
    "        hillas_params = get_hillas_parameters(geom1d, tailcut_cleaned_img_1d, implementation=4)\n",
    "\n",
    "        disp = plot_ctapipe_image(calibrated_image_1d, geom1d, title='Tailcut cleaned', plot_axis=False)\n",
    "        plot_hillas_parameters_on_axes(disp.axes, tailcut_cleaned_img_1d, geom1d)\n",
    "        disp.highlight_pixels(tailcut_cleaned_img_mask, linewidth=4, color='white', alpha=0.9)\n",
    "        plt.savefig('tailcut_cleaned_img.pdf')\n",
    "        disp.show()\n",
    "        \n",
    "        disp = plot_ctapipe_image(tailcut_cleaned_img_1d, geom1d, title='Tailcut cleaned', plot_axis=False)\n",
    "        plot_hillas_parameters_on_axes(disp.axes, tailcut_cleaned_img_1d, geom1d)\n",
    "        disp.show()\n",
    "        \n",
    "        ### Ref ###\n",
    "        \n",
    "        reference_image_1d = geometry_converter.image_2d_to_1d(image.reference_image, cam_id)\n",
    "        reference_image_mask = np.full(reference_image_1d.shape, False)\n",
    "        reference_image_mask[reference_image_1d > 0] = True\n",
    "        disp = plot_ctapipe_image(reference_image_1d, geom1d, title='Reference', plot_axis=False)\n",
    "        plot_hillas_parameters_on_axes(disp.axes, reference_image_1d, geom1d)\n",
    "        disp.highlight_pixels(reference_image_mask, linewidth=4, color='white', alpha=0.9)\n",
    "        disp.show()\n",
    "\n",
    "        print(\"cen_x:...\", hillas_params.cen_x)\n",
    "        print(\"cen_y:...\", hillas_params.cen_y)\n",
    "\n",
    "        print(\"length:..\", hillas_params.length)\n",
    "        print(\"width:...\", hillas_params.width)\n",
    "\n",
    "        print(\"size:....\", hillas_params.size, \"PE\")\n",
    "        print(\"NPE: ....\", np.sum(tailcut_cleaned_img), \"PE\")\n",
    "\n",
    "        print(\"psi:.....\", hillas_params.psi)\n",
    "\n",
    "        print(\"miss:....\", hillas_params.miss)\n",
    "        print(\"phi:.....\", hillas_params.phi)\n",
    "        print(\"r:.......\", hillas_params.r)\n",
    "\n",
    "        print(\"kurtosis:\", hillas_params.kurtosis)\n",
    "        print(\"skewness:\", hillas_params.skewness)"
   ]
  }
 ],
 "metadata": {
  "anaconda-cloud": {},
  "kernelspec": {
   "display_name": "Python 3",
   "language": "python",
   "name": "python3"
  },
  "language_info": {
   "codemirror_mode": {
    "name": "ipython",
    "version": 3
   },
   "file_extension": ".py",
   "mimetype": "text/x-python",
   "name": "python",
   "nbconvert_exporter": "python",
   "pygments_lexer": "ipython3",
   "version": "3.6.4"
  }
 },
 "nbformat": 4,
 "nbformat_minor": 1
}