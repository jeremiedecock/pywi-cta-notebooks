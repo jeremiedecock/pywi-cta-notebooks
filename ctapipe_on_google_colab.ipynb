{
 "cells": [
  {
   "cell_type": "markdown",
   "metadata": {},
   "source": [
    "# Ctapipe on Google Colab"
   ]
  },
  {
   "cell_type": "markdown",
   "metadata": {},
   "source": [
    "<a href=\"https://colab.research.google.com/github/jeremiedecock/pywi-cta-notebooks/blob/master/ctapipe_on_google_colab.ipynb\"><img align=\"left\" src=\"https://colab.research.google.com/assets/colab-badge.svg\" alt=\"Open in Colab\" title=\"Open and Execute in Google Colaboratory\"></a>"
   ]
  },
  {
   "cell_type": "markdown",
   "metadata": {},
   "source": [
    "Ctapipe is only available through Anaconda and Google colab can't install packages via Anaconda...\n",
    "Here is a workaround.\n",
    "\n",
    "Sources:\n",
    "\n",
    "- https://facebookresearch.github.io/TensorComprehensions/installation_colab_research.html\n",
    "- https://stackoverflow.com/questions/49202649/how-to-build-libraries-via-conda-on-colab-research"
   ]
  },
  {
   "cell_type": "code",
   "execution_count": null,
   "metadata": {},
   "outputs": [],
   "source": [
    "!wget -c https://repo.continuum.io/archive/Anaconda3-5.1.0-Linux-x86_64.sh\n",
    "!chmod +x Anaconda3-5.1.0-Linux-x86_64.sh\n",
    "!bash ./Anaconda3-5.1.0-Linux-x86_64.sh -b -f -p /usr/local\n",
    "!conda install -q -y --prefix /usr/local -c cta-observatory -c conda-forge ctapipe ctapipe-extra pyhessio\n",
    "\n",
    "import sys\n",
    "sys.path.append('/usr/local/lib/python3.6/site-packages/')"
   ]
  },
  {
   "cell_type": "code",
   "execution_count": null,
   "metadata": {},
   "outputs": [],
   "source": [
    "!pip install -q pywi"
   ]
  },
  {
   "cell_type": "code",
   "execution_count": null,
   "metadata": {},
   "outputs": [],
   "source": [
    "!pip install -q pywicta"
   ]
  },
  {
   "cell_type": "code",
   "execution_count": null,
   "metadata": {},
   "outputs": [],
   "source": [
    "import ctapipe\n",
    "\n",
    "print(ctapipe.__version__)\n",
    "\n",
    "import pyhessio\n",
    "\n",
    "print(pyhessio.__version__)\n",
    "\n",
    "import pywi\n",
    "\n",
    "print(pywi.get_version())\n",
    "\n",
    "import pywicta\n",
    "\n",
    "print(pywicta.get_version())"
   ]
  }
 ],
 "metadata": {
  "kernelspec": {
   "display_name": "Python 3",
   "language": "python",
   "name": "python3"
  },
  "language_info": {
   "codemirror_mode": {
    "name": "ipython",
    "version": 3
   },
   "file_extension": ".py",
   "mimetype": "text/x-python",
   "name": "python",
   "nbconvert_exporter": "python",
   "pygments_lexer": "ipython3",
   "version": "3.6.6"
  }
 },
 "nbformat": 4,
 "nbformat_minor": 2
}
