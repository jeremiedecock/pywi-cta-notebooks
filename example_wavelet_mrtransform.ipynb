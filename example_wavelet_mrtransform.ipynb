{
 "cells": [
  {
   "cell_type": "markdown",
   "metadata": {},
   "source": [
    "# Get number of pixels clusters example"
   ]
  },
  {
   "cell_type": "code",
   "execution_count": 1,
   "metadata": {},
   "outputs": [],
   "source": [
    "%matplotlib inline\n",
    "\n",
    "import numpy as np\n",
    "\n",
    "import matplotlib\n",
    "import matplotlib.pyplot as plt\n",
    "matplotlib.rcParams['figure.figsize'] = (6, 6)\n",
    "\n",
    "import os\n",
    "\n",
    "from IPython.display import display\n",
    "\n",
    "import ipywidgets\n",
    "from ipywidgets import interact\n",
    "\n",
    "from ctapipe.image.hillas import HillasParameterizationError\n",
    "\n",
    "import pywicta\n",
    "from pywicta.io import geometry_converter\n",
    "from pywicta.io.images import image_generator\n",
    "from pywicta.io.images import plot_ctapipe_image\n",
    "from pywicta.io.images import plot_hillas_parameters_on_axes\n",
    "from pywicta.io.images import print_hillas_parameters\n",
    "from pywicta.io.images import hillas_parameters_to_df\n",
    "from pywicta.image.hillas_parameters import get_hillas_parameters\n",
    "from pywicta.denoising import wavelets_mrtransform\n",
    "from pywicta.denoising.wavelets_mrtransform import WaveletTransform\n",
    "from pywicta.denoising import inverse_transform_sampling\n",
    "from pywicta.denoising.inverse_transform_sampling import EmpiricalDistribution"
   ]
  },
  {
   "cell_type": "code",
   "execution_count": 2,
   "metadata": {},
   "outputs": [
    {
     "data": {
      "image/png": "[encoded data removed]",
      "text/plain": [
       "<matplotlib.figure.Figure at 0x231a4a198>"
      ]
     },
     "metadata": {},
     "output_type": "display_data"
    },
    {
     "data": {
      "image/png": "[encoded data removed]",
      "text/plain": [
       "<matplotlib.figure.Figure at 0x231ac2a90>"
      ]
     },
     "metadata": {},
     "output_type": "display_data"
    },
    {
     "name": "stdout",
     "output_type": "stream",
     "text": [
      "/Users/jdecock/git/pub/jdhp/pywi-cta/pywicta/denoising/cdf/lstcam_grid_prod3b_north_cdf_gamma_mars_like.json\n"
     ]
    },
    {
     "data": {
      "image/png": "[encoded data removed]",
      "text/plain": [
       "<matplotlib.figure.Figure at 0x231b00198>"
      ]
     },
     "metadata": {},
     "output_type": "display_data"
    }
   ],
   "source": [
    "#TMP_DIR = \"/Volumes/ramdisk\"\n",
    "TMP_DIR = \".\"\n",
    "\n",
    "#cam_id = \"ASTRICam\"\n",
    "#cam_id = \"CHEC\"\n",
    "#cam_id = \"DigiCam\"\n",
    "#cam_id = \"FlashCam\"\n",
    "#cam_id = \"NectarCam\"\n",
    "cam_id = \"LSTCam\"\n",
    "\n",
    "#SIMTEL_FILE = \"~/data/astri_mini_array_konrad/simtel/astri_v2/gamma/gamma_20deg_180deg_run2203___cta-prod3-sst-astri_desert-2150m-Paranal-sst-astri2.simtel.gz\"\n",
    "#SIMTEL_FILE = \"~/data/gct_mini_array_konrad/simtel/gct/gamma/gamma_20deg_180deg_run2203___cta-prod3-sst-gct_desert-2150m-Paranal-sst-gct.simtel.gz\"\n",
    "#SIMTEL_FILE = \"~/data/sst1m_mini_array_konrad/simtel/sst1m/gamma/gamma_20deg_180deg_run2203___cta-prod3-sst-dc_desert-2150m-Paranal-sst-dc.simtel.gz\"\n",
    "SIMTEL_FILE = \"~/data/grid_prod3b_north/simtel/gamma/gamma_20deg_0deg_run104___cta-prod3-lapalma3-2147m-LaPalma.simtel.gz\"\n",
    "\n",
    "PATHS = [SIMTEL_FILE]\n",
    "NUM_IMAGES = 1\n",
    "\n",
    "#rejection_criteria = lambda image: not 50 < np.nansum(image.reference_image) < 200\n",
    "rejection_criteria = None\n",
    "\n",
    "integrator = 'LocalPeakIntegrator'\n",
    "integration_correction = False\n",
    "\n",
    "if cam_id == \"ASTRICam\":\n",
    "    integrator_window_width = 1\n",
    "    integrator_window_shift = 1\n",
    "elif cam_id == \"CHEC\":\n",
    "    integrator_window_width = 10\n",
    "    integrator_window_shift = 5\n",
    "elif cam_id == \"DigiCam\":\n",
    "    integrator_window_width = 5\n",
    "    integrator_window_shift = 2\n",
    "elif cam_id == \"FlashCam\":\n",
    "    integrator_window_width = 6\n",
    "    integrator_window_shift = 3\n",
    "elif cam_id == \"NectarCam\":\n",
    "    integrator_window_width = 5\n",
    "    integrator_window_shift = 2\n",
    "elif cam_id == \"LSTCam\":\n",
    "    integrator_window_width = 5\n",
    "    integrator_window_shift = 2\n",
    "else:\n",
    "    raise ValueError('Unknown cam_id \"{}\"'.format(cam_id))\n",
    "\n",
    "integrator_t0 = None\n",
    "integrator_sig_amp_cut_hg = None\n",
    "integrator_sig_amp_cut_lg = None\n",
    "integrator_lwt = None\n",
    "\n",
    "it = image_generator(PATHS,\n",
    "                     max_num_images=NUM_IMAGES,\n",
    "                     cam_filter_list=[cam_id],\n",
    "                     ctapipe_format=False,\n",
    "                     time_samples=False,\n",
    "                     rejection_criteria=rejection_criteria,\n",
    "                     integrator=integrator,\n",
    "                     integrator_window_width=integrator_window_width,\n",
    "                     integrator_window_shift=integrator_window_shift,\n",
    "                     integrator_t0=integrator_t0,\n",
    "                     integrator_sig_amp_cut_hg=integrator_sig_amp_cut_hg,\n",
    "                     integrator_sig_amp_cut_lg=integrator_sig_amp_cut_lg,\n",
    "                     integrator_lwt=integrator_lwt,\n",
    "                     integration_correction=integration_correction)\n",
    "\n",
    "for image in it:\n",
    "    plt.imshow(image.reference_image)\n",
    "    plt.show()\n",
    "    \n",
    "    plt.imshow(image.input_image)\n",
    "    plt.show()\n",
    "    \n",
    "    # Fill blank pixels with noise\n",
    "    noise_cdf_file = inverse_transform_sampling.get_cdf_file_path(cam_id)  # pywicta.denoising.cdf.LSTCAM_CDF_FILE\n",
    "    print(noise_cdf_file)\n",
    "    noise_distribution = EmpiricalDistribution(noise_cdf_file)\n",
    "    \n",
    "    # Image cleaning with Wavelets\n",
    "    wavelet = WaveletTransform()\n",
    "    cleaned_image = wavelet.clean_image(image.input_image,\n",
    "                                        type_of_filtering = 'hard_filtering',\n",
    "                                        filter_thresholds = [8, 2],            # <- TODO\n",
    "                                        last_scale_treatment = \"mask\",\n",
    "                                        detect_only_positive_structures = False,\n",
    "                                        kill_isolated_pixels = False,\n",
    "                                        noise_distribution = noise_distribution,\n",
    "                                        tmp_files_directory = TMP_DIR)\n",
    "    \n",
    "    plt.imshow(cleaned_image)\n",
    "    plt.show()"
   ]
  }
 ],
 "metadata": {
  "kernelspec": {
   "display_name": "Python 3",
   "language": "python",
   "name": "python3"
  },
  "language_info": {
   "codemirror_mode": {
    "name": "ipython",
    "version": 3
   },
   "file_extension": ".py",
   "mimetype": "text/x-python",
   "name": "python",
   "nbconvert_exporter": "python",
   "pygments_lexer": "ipython3",
   "version": "3.6.4"
  }
 },
 "nbformat": 4,
 "nbformat_minor": 2
}
