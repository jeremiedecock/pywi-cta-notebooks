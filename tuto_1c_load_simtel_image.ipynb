{
 "cells": [
  {
   "cell_type": "markdown",
   "metadata": {},
   "source": [
    "# Load and plot a Simtel image using PyWI-CTA"
   ]
  },
  {
   "cell_type": "markdown",
   "metadata": {},
   "source": [
    "## Import required modules"
   ]
  },
  {
   "cell_type": "markdown",
   "metadata": {},
   "source": [
    "This notebook requires PyWI-CTA for the I/O."
   ]
  },
  {
   "cell_type": "code",
   "execution_count": null,
   "metadata": {},
   "outputs": [],
   "source": [
    "%matplotlib inline\n",
    "\n",
    "import pywicta\n",
    "from pywicta.io import geometry_converter\n",
    "from pywicta.io.images import image_generator\n",
    "from pywicta.io.images import plot_ctapipe_image\n",
    "from pywicta.io.images import get_mars_like_default_integrator_config\n",
    "from pywicta.denoising.rejection_criteria import CTAMarsCriteria\n",
    "\n",
    "print(pywicta.get_version())"
   ]
  },
  {
   "cell_type": "code",
   "execution_count": null,
   "metadata": {},
   "outputs": [],
   "source": [
    "pywicta.__file__"
   ]
  },
  {
   "cell_type": "markdown",
   "metadata": {},
   "source": [
    "## Setup"
   ]
  },
  {
   "cell_type": "markdown",
   "metadata": {},
   "source": [
    "The next cells define the list of images to use in this notebook.\n",
    "\n",
    "Images can be fetched from Fits files or from Simtel files.\n",
    "Fits files are much lighter and much faster to process than Simtel files but they are specific to PyWI-CTA and thus you first have to generate them from Simtel files using [the following script](). Also, contrary to Simtel files, a Fits files contains only one \"image\" (i.e. an unique event viewed from one unique telescope)."
   ]
  },
  {
   "cell_type": "code",
   "execution_count": null,
   "metadata": {},
   "outputs": [],
   "source": [
    "#CAM_ID = \"ASTRICam\"\n",
    "#CAM_ID = \"CHEC\"\n",
    "#CAM_ID = \"DigiCam\"\n",
    "#CAM_ID = \"FlashCam\"\n",
    "#CAM_ID = \"NectarCam\"\n",
    "CAM_ID = \"LSTCam\"\n",
    "\n",
    "IMG_PATH_LIST = [\"~/proton_20deg_0deg_run50001___cta-prod3-lapalma3-2147m-LaPalma.simtel.gz\"]\n",
    "NUM_IMAGES = 1\n",
    "TEL_FILTER_LIST = []\n",
    "EVENT_FILTER_LIST = []"
   ]
  },
  {
   "cell_type": "markdown",
   "metadata": {},
   "source": [
    "## Define preselection cuts"
   ]
  },
  {
   "cell_type": "markdown",
   "metadata": {},
   "source": [
    "image_generator will only returns images that pass the following rejection_criteria (rejection criteria is a function that takes an image in argument and return True if the image pass the test of False otherwise)."
   ]
  },
  {
   "cell_type": "code",
   "execution_count": null,
   "metadata": {},
   "outputs": [],
   "source": [
    "#rejection_criteria = lambda ref_image: not 200 < np.nansum(ref_image) < 250\n",
    "rejection_criteria = CTAMarsCriteria(cam_id=CAM_ID)\n",
    "#rejection_criteria = None"
   ]
  },
  {
   "cell_type": "markdown",
   "metadata": {},
   "source": [
    "## Define the calibration / integration setup"
   ]
  },
  {
   "cell_type": "code",
   "execution_count": null,
   "metadata": {},
   "outputs": [],
   "source": [
    "integrator_config_dict = get_mars_like_default_integrator_config(CAM_ID)"
   ]
  },
  {
   "cell_type": "markdown",
   "metadata": {},
   "source": [
    "## Get image"
   ]
  },
  {
   "cell_type": "code",
   "execution_count": null,
   "metadata": {},
   "outputs": [],
   "source": [
    "image_gen = image_generator(IMG_PATH_LIST,\n",
    "                            max_num_images=NUM_IMAGES,\n",
    "                            cam_filter_list=[CAM_ID],\n",
    "                            tel_filter_list=TEL_FILTER_LIST,\n",
    "                            ev_filter_list=EVENT_FILTER_LIST,\n",
    "                            ctapipe_format=False,\n",
    "                            mc_rejection_criteria=rejection_criteria,\n",
    "                            **integrator_config_dict)"
   ]
  },
  {
   "cell_type": "code",
   "execution_count": null,
   "metadata": {},
   "outputs": [],
   "source": [
    "img = next(image_gen)"
   ]
  },
  {
   "cell_type": "code",
   "execution_count": null,
   "metadata": {},
   "outputs": [],
   "source": [
    "img"
   ]
  },
  {
   "cell_type": "code",
   "execution_count": null,
   "metadata": {},
   "outputs": [],
   "source": [
    "img.meta"
   ]
  },
  {
   "cell_type": "markdown",
   "metadata": {},
   "source": [
    "## Plot using pywicta"
   ]
  },
  {
   "cell_type": "code",
   "execution_count": null,
   "metadata": {},
   "outputs": [],
   "source": [
    "geom1d = geometry_converter.get_geom1d(CAM_ID)\n",
    "\n",
    "img_input_1d = geometry_converter.image_2d_to_1d(img.input_image, CAM_ID)\n",
    "img_ref_1d = geometry_converter.image_2d_to_1d(img.reference_image, CAM_ID)"
   ]
  },
  {
   "cell_type": "code",
   "execution_count": null,
   "metadata": {},
   "outputs": [],
   "source": [
    "disp = plot_ctapipe_image(img_input_1d,\n",
    "                          geom1d,\n",
    "                          title='Noised image',\n",
    "                          norm='lin',\n",
    "                          plot_axis=False)"
   ]
  },
  {
   "cell_type": "code",
   "execution_count": null,
   "metadata": {},
   "outputs": [],
   "source": [
    "disp = plot_ctapipe_image(img_ref_1d,\n",
    "                          geom1d,\n",
    "                          title='Clean image',\n",
    "                          norm='lin',\n",
    "                          plot_axis=False)"
   ]
  },
  {
   "cell_type": "code",
   "execution_count": null,
   "metadata": {},
   "outputs": [],
   "source": [
    "pywicta.io.images.print_hillas_parameters(img_ref_1d, CAM_ID)"
   ]
  }
 ],
 "metadata": {
  "anaconda-cloud": {},
  "kernelspec": {
   "display_name": "Python 3",
   "language": "python",
   "name": "python3"
  },
  "language_info": {
   "codemirror_mode": {
    "name": "ipython",
    "version": 3
   },
   "file_extension": ".py",
   "mimetype": "text/x-python",
   "name": "python",
   "nbconvert_exporter": "python",
   "pygments_lexer": "ipython3",
   "version": "3.6.7"
  }
 },
 "nbformat": 4,
 "nbformat_minor": 2
}