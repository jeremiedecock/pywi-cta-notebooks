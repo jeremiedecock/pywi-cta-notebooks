{
 "cells": [
  {
   "cell_type": "markdown",
   "metadata": {},
   "source": [
    "# Optimize Starlet thresholds using Bruteforce"
   ]
  },
  {
   "cell_type": "markdown",
   "metadata": {},
   "source": [
    "[![Binder](https://mybinder.org/badge_logo.svg)](https://mybinder.org/v2/gh/jeremiedecock/pywi-cta-notebooks/master?filepath=tuto_4b_optimize_starlet_thresholds_using_bruteforce.ipynb)"
   ]
  },
  {
   "cell_type": "code",
   "execution_count": null,
   "metadata": {},
   "outputs": [],
   "source": [
    "import pywicta\n",
    "print(pywicta.get_version())"
   ]
  },
  {
   "cell_type": "code",
   "execution_count": null,
   "metadata": {},
   "outputs": [],
   "source": [
    "import json\n",
    "\n",
    "from pywicta.optimization.objectivefunc.starlet import ObjectiveFunction\n",
    "from scipy import optimize\n",
    "\n",
    "import pywicta.denoising.cdf\n",
    "from pywicta.denoising.inverse_transform_sampling import EmpiricalDistribution"
   ]
  },
  {
   "cell_type": "code",
   "execution_count": null,
   "metadata": {},
   "outputs": [],
   "source": [
    "search_ranges = (slice(1, 5, 1),           # Scale 0 (smallest scale)\n",
    "                 slice(1, 5, 1))           # Scale 1 (largest scale)"
   ]
  },
  {
   "cell_type": "code",
   "execution_count": null,
   "metadata": {},
   "outputs": [],
   "source": [
    "#instrument = \"ASTRICam\"\n",
    "#instrument = \"CHEC\"\n",
    "#instrument = \"DigiCam\"\n",
    "#instrument = \"FlashCam\"\n",
    "instrument = \"NectarCam\"\n",
    "#instrument = \"LSTCam\"\n",
    "\n",
    "cleaning_failure_score = 90.\n",
    "#cleaning_failure_score = float('nan')\n",
    "\n",
    "input_files = [\"~/data/nectarcam_faint/\"]\n",
    "\n",
    "#noise_distribution = EmpiricalDistribution(pywicta.denoising.cdf.ASTRI_CDF_FILE)\n",
    "#noise_distribution = EmpiricalDistribution(pywicta.denoising.cdf.GCT_CDF_FILE)\n",
    "#noise_distribution = EmpiricalDistribution(pywicta.denoising.cdf.DIGICAM_CDF_FILE)\n",
    "#noise_distribution = EmpiricalDistribution(pywicta.denoising.cdf.FLASHCAM_CDF_FILE)\n",
    "noise_distribution = EmpiricalDistribution(pywicta.denoising.cdf.NECTARCAM_CDF_FILE)\n",
    "#noise_distribution = EmpiricalDistribution(pywicta.denoising.cdf.LSTCAM_CDF_FILE)\n",
    "\n",
    "func = ObjectiveFunction(input_files=input_files,\n",
    "                         cam_id=instrument,\n",
    "                         max_num_img=10,                         # integer or None           should be at least 1000 in production\n",
    "                         noise_distribution=noise_distribution,\n",
    "                         aggregation_method=\"mean\",              # \"mean\" or \"median\"\n",
    "                         num_scales=len(search_ranges) + 1,      # TODO: useless now...\n",
    "                         type_of_filtering=\"cluster_filtering\",\n",
    "                         last_scale_treatment=\"mask\",\n",
    "                         detect_only_positive_structures=False,\n",
    "                         kill_isolated_pixels=False,\n",
    "                         #tmp_files_directory=\"/dev/shm/.jd/\",\n",
    "                         cleaning_failure_score=cleaning_failure_score)"
   ]
  },
  {
   "cell_type": "code",
   "execution_count": null,
   "metadata": {},
   "outputs": [],
   "source": [
    "res = optimize.brute(func,\n",
    "                     search_ranges,\n",
    "                     full_output=True,\n",
    "                     finish=None)     #optimize.fmin)\n",
    "\n",
    "print(\"solutions:\", res[2])\n",
    "print(\"scores:\", res[3])\n",
    "\n",
    "print()\n",
    "print(\"best solution:\", res[0])\n",
    "print(\"best score:\", res[1])"
   ]
  }
 ],
 "metadata": {
  "kernelspec": {
   "display_name": "Python 3",
   "language": "python",
   "name": "python3"
  },
  "language_info": {
   "codemirror_mode": {
    "name": "ipython",
    "version": 3
   },
   "file_extension": ".py",
   "mimetype": "text/x-python",
   "name": "python",
   "nbconvert_exporter": "python",
   "pygments_lexer": "ipython3",
   "version": "3.6.6"
  }
 },
 "nbformat": 4,
 "nbformat_minor": 2
}