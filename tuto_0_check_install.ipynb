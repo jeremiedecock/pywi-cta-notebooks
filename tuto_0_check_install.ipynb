{
 "cells": [
  {
   "cell_type": "code",
   "execution_count": null,
   "metadata": {},
   "outputs": [],
   "source": [
    "import pyhessio\n",
    "print(pyhessio.__version__)\n",
    "\n",
    "import ctapipe\n",
    "print(ctapipe.__version__)\n",
    "\n",
    "import pywi\n",
    "print(pywi.get_version())\n",
    "\n",
    "import pywicta\n",
    "print(pywicta.get_version())"
   ]
  }
 ],
 "metadata": {
  "kernelspec": {
   "display_name": "Python 3",
   "language": "python",
   "name": "python3"
  },
  "language_info": {
   "codemirror_mode": {
    "name": "ipython",
    "version": 3
   },
   "file_extension": ".py",
   "mimetype": "text/x-python",
   "name": "python",
   "nbconvert_exporter": "python",
   "pygments_lexer": "ipython3",
   "version": "3.6.6"
  }
 },
 "nbformat": 4,
 "nbformat_minor": 2
}