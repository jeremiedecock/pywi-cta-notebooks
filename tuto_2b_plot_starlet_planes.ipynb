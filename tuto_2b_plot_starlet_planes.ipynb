{
 "cells": [
  {
   "cell_type": "markdown",
   "metadata": {},
   "source": [
    "# Plot Starlet planes with PyWI-CTA"
   ]
  },
  {
   "cell_type": "markdown",
   "metadata": {},
   "source": [
    "## Import required modules"
   ]
  },
  {
   "cell_type": "markdown",
   "metadata": {},
   "source": [
    "This notebook requires PyWI-CTA for the I/O."
   ]
  },
  {
   "cell_type": "code",
   "execution_count": null,
   "metadata": {},
   "outputs": [],
   "source": [
    "%matplotlib inline\n",
    "\n",
    "import matplotlib.pyplot as plt\n",
    "\n",
    "import pywicta\n",
    "from pywicta.io import geometry_converter\n",
    "from pywicta.io.images import image_generator\n",
    "from pywicta.io.images import plot_ctapipe_image\n",
    "from pywicta.io.images import plot_hillas_parameters_on_axes\n",
    "\n",
    "from pywicta.denoising import starlet\n",
    "from pywicta.denoising.starlet import WaveletTransform\n",
    "from pywicta.denoising import inverse_transform_sampling\n",
    "from pywicta.denoising.inverse_transform_sampling import EmpiricalDistribution\n",
    "\n",
    "print(pywicta.get_version())"
   ]
  },
  {
   "cell_type": "markdown",
   "metadata": {},
   "source": [
    "## Get image"
   ]
  },
  {
   "cell_type": "markdown",
   "metadata": {},
   "source": [
    "The next cells define the list of images to use in this notebook.\n",
    "\n",
    "Images can be fetched from Fits files or from Simtel files.\n",
    "Fits files are much lighter and much faster to process than Simtel files but they are specific to PyWI-CTA and thus you first have to generate them from Simtel files using [the following script](). Also, contrary to Simtel files, a Fits files contains only one \"image\" (i.e. an unique event viewed from one unique telescope)."
   ]
  },
  {
   "cell_type": "code",
   "execution_count": null,
   "metadata": {},
   "outputs": [],
   "source": [
    "#CAM_ID = \"ASTRICam\"\n",
    "#CAM_ID = \"CHEC\"\n",
    "#CAM_ID = \"DigiCam\"\n",
    "#CAM_ID = \"FlashCam\"\n",
    "#CAM_ID = \"NectarCam\"\n",
    "CAM_ID = \"LSTCam\"\n",
    "\n",
    "IMG_PATH_LIST = [\"~/gamma_20deg_0deg_run103___cta-prod3-lapalma3-2147m-LaPalma.simtel.gz_TEL001_EV1002301.fits\"]\n",
    "\n",
    "image_gen = image_generator(IMG_PATH_LIST,\n",
    "                            cam_filter_list=[CAM_ID],\n",
    "                            ctapipe_format=False)\n",
    "\n",
    "img = next(image_gen)"
   ]
  },
  {
   "cell_type": "code",
   "execution_count": null,
   "metadata": {},
   "outputs": [],
   "source": [
    "img.meta"
   ]
  },
  {
   "cell_type": "markdown",
   "metadata": {},
   "source": [
    "## Plot"
   ]
  },
  {
   "cell_type": "markdown",
   "metadata": {},
   "source": [
    "Images comming from FITS files are stored in 2D arrays (mainly because the Sparce2D wavelet transform expects images stored in 2D arrays).\n",
    "But ctapipe uses a special 1D array representation for IACT images (defined in \"geom\" objects).\n",
    "Thus conversion has to be done prior to use ctapipe functions on images comming from Fits files (using the \"geometry_converter\" function)."
   ]
  },
  {
   "cell_type": "code",
   "execution_count": null,
   "metadata": {},
   "outputs": [],
   "source": [
    "geom1d = geometry_converter.get_geom1d(CAM_ID)"
   ]
  },
  {
   "cell_type": "code",
   "execution_count": null,
   "metadata": {},
   "outputs": [],
   "source": [
    "img_input_1d = geometry_converter.image_2d_to_1d(img.input_image, CAM_ID)\n",
    "\n",
    "disp = plot_ctapipe_image(img_input_1d,\n",
    "                          geom1d,\n",
    "                          title='Noised image',\n",
    "                          norm='lin',\n",
    "                          plot_axis=False)"
   ]
  },
  {
   "cell_type": "markdown",
   "metadata": {},
   "source": [
    "## Clean the image using the Starlet transform"
   ]
  },
  {
   "cell_type": "markdown",
   "metadata": {},
   "source": [
    "### Get empirical noise distribution"
   ]
  },
  {
   "cell_type": "code",
   "execution_count": null,
   "metadata": {},
   "outputs": [],
   "source": [
    "use_noise_distribution = True\n",
    "\n",
    "if use_noise_distribution:\n",
    "    noise_cdf_file = inverse_transform_sampling.get_cdf_file_path(CAM_ID)  # pywicta.denoising.cdf.LSTCAM_CDF_FILE\n",
    "    print(noise_cdf_file)\n",
    "    noise_distribution = EmpiricalDistribution(noise_cdf_file)\n",
    "else:\n",
    "    noise_distribution = None"
   ]
  },
  {
   "cell_type": "markdown",
   "metadata": {},
   "source": [
    "### Setup the Starlet transform"
   ]
  },
  {
   "cell_type": "markdown",
   "metadata": {},
   "source": [
    "Fell free to change the following default setup to get a better understanding of the Starlet transform..."
   ]
  },
  {
   "cell_type": "code",
   "execution_count": null,
   "metadata": {},
   "outputs": [],
   "source": [
    "type_of_filtering = 'hard_filtering'\n",
    "filter_thresholds = (3., 0.2)\n",
    "clusters_threshold = 0.2\n",
    "last_scale_treatment = 'drop'\n",
    "detect_only_positive_structures = False\n",
    "kill_isolated_pixels = True"
   ]
  },
  {
   "cell_type": "markdown",
   "metadata": {},
   "source": [
    "### Compute the Starlet transform and plot the Starlet planes"
   ]
  },
  {
   "cell_type": "code",
   "execution_count": null,
   "metadata": {},
   "outputs": [],
   "source": [
    "number_of_scales = len(filter_thresholds) + 1\n",
    "\n",
    "in_planes = starlet.wavelet_transform(img.input_image,\n",
    "                                      number_of_scales=number_of_scales,\n",
    "                                      noise_distribution=noise_distribution)\n",
    "\n",
    "filtered_in_planes = starlet.filter_planes(in_planes,\n",
    "                                           method=type_of_filtering,\n",
    "                                           thresholds=filter_thresholds,\n",
    "                                           detect_only_positive_structures=detect_only_positive_structures)\n",
    "\n",
    "for plane_index, (plane, filtered_plane) in enumerate(zip(in_planes, filtered_in_planes)):\n",
    "    if plane_index < len(in_planes) - 1:\n",
    "        significant_pixels_mask = (geometry_converter.image_2d_to_1d(filtered_plane, CAM_ID) != 0)\n",
    "    else:\n",
    "        significant_pixels_mask = None\n",
    "        \n",
    "    if plane_index == 0:\n",
    "        title_comment = \" (smallest scale)\"\n",
    "    elif plane_index == len(in_planes) - 2:\n",
    "        title_comment = ' (largest scale)'\n",
    "    elif plane_index == len(in_planes) - 1:\n",
    "        title_comment = ' (\"coarse\" a.k.a. \"residuals\")'\n",
    "    else:\n",
    "        title_comment = \"\"\n",
    "            \n",
    "    disp = plot_ctapipe_image(geometry_converter.image_2d_to_1d(plane, CAM_ID),\n",
    "                              geom1d,\n",
    "                              title='Plane {}{}'.format(plane_index + 1, title_comment),\n",
    "                              norm='lin',\n",
    "                              highlight_mask=significant_pixels_mask,\n",
    "                              plot_axis=False)"
   ]
  }
 ],
 "metadata": {
  "anaconda-cloud": {},
  "kernelspec": {
   "display_name": "Python 3",
   "language": "python",
   "name": "python3"
  },
  "language_info": {
   "codemirror_mode": {
    "name": "ipython",
    "version": 3
   },
   "file_extension": ".py",
   "mimetype": "text/x-python",
   "name": "python",
   "nbconvert_exporter": "python",
   "pygments_lexer": "ipython3",
   "version": "3.6.7"
  }
 },
 "nbformat": 4,
 "nbformat_minor": 2
}